{
 "cells": [
  {
   "cell_type": "code",
   "execution_count": 1,
   "metadata": {},
   "outputs": [],
   "source": [
    "from sklearn.metrics import classification_report"
   ]
  },
  {
   "cell_type": "code",
   "execution_count": 2,
   "metadata": {},
   "outputs": [],
   "source": [
    "import findspark\n",
    "findspark.init()"
   ]
  },
  {
   "cell_type": "code",
   "execution_count": 3,
   "metadata": {},
   "outputs": [],
   "source": [
    "from pyspark.sql import SparkSession\n",
    "spark=SparkSession.builder.master(\"local\").appName(\"Test Spark\").getOrCreate()\n",
    "sc=spark.sparkContext"
   ]
  },
  {
   "cell_type": "code",
   "execution_count": 4,
   "metadata": {},
   "outputs": [],
   "source": [
    "from pyspark import SparkContext, SparkConf\n",
    "import requests\n",
    "import re"
   ]
  },
  {
   "cell_type": "code",
   "execution_count": 5,
   "metadata": {},
   "outputs": [],
   "source": [
    "#load pyspark package and classes packages\n",
    "import os\n",
    "from pyspark.sql import SparkSession\n",
    "import findspark"
   ]
  },
  {
   "cell_type": "code",
   "execution_count": 6,
   "metadata": {},
   "outputs": [],
   "source": [
    "#setup spark session\n",
    "findspark.init()"
   ]
  },
  {
   "cell_type": "code",
   "execution_count": 7,
   "metadata": {},
   "outputs": [],
   "source": [
    "#import PYSPARK ML packages\n",
    "from pyspark.sql import SQLContext\n",
    "import matplotlib.pyplot as plt\n",
    "import numpy as np\n",
    "from pyspark.ml.classification import RandomForestClassifier\n",
    "from pyspark.ml.evaluation import MulticlassClassificationEvaluator\n",
    "from pyspark.sql import DataFrame\n",
    "from pyspark.mllib.evaluation import MulticlassMetrics\n",
    "from sklearn.metrics import classification_report\n",
    "from sklearn.metrics import roc_curve\n",
    "from sklearn.metrics import precision_score\n",
    "from sklearn.metrics import recall_score\n",
    "from sklearn.metrics import f1_score\n",
    "import seaborn as sns\n",
    "from pyspark import SparkConf, SparkContext"
   ]
  },
  {
   "cell_type": "code",
   "execution_count": 8,
   "metadata": {},
   "outputs": [
    {
     "name": "stdout",
     "output_type": "stream",
     "text": [
      "Spark Context Initialized\n"
     ]
    }
   ],
   "source": [
    "#defining spark object\n",
    "spark = SparkSession.builder.appName(\"HDFS\").getOrCreate()\n",
    "sparkcont = SparkContext.getOrCreate(SparkConf().setAppName(\"HDFS\"))\n",
    "logs = sparkcont.setLogLevel(\"ERROR\")\n",
    "print(\"Spark Context Initialized\")"
   ]
  },
  {
   "cell_type": "code",
   "execution_count": 9,
   "metadata": {
    "scrolled": true
   },
   "outputs": [
    {
     "name": "stdout",
     "output_type": "stream",
     "text": [
      "+--------------------+-----+\n",
      "|                text|label|\n",
      "+--------------------+-----+\n",
      "|\"Great CD: My lov...|    1|\n",
      "|One of the best g...|    1|\n",
      "|Batteries died wi...|    0|\n",
      "|works fine, but M...|    1|\n",
      "|Great for the non...|    1|\n",
      "|DVD Player crappe...|    0|\n",
      "|Incorrect Disc: I...|    0|\n",
      "|DVD menu select p...|    0|\n",
      "|\"Unique Weird Ori...|    1|\n",
      "|\"Not an \"\"ultimat...|    0|\n",
      "|Great book for tr...|    1|\n",
      "|Not!: If you want...|    0|\n",
      "|\"A complete Bust:...|    0|\n",
      "|TRULY MADE A DIFF...|    1|\n",
      "|didn't run off of...|    0|\n",
      "|Don't buy!: First...|    0|\n",
      "|Simple, Durable, ...|    1|\n",
      "|Review of Kelly C...|    1|\n",
      "|SOY UN APASIONADO...|    1|\n",
      "|Some of the best ...|    1|\n",
      "+--------------------+-----+\n",
      "only showing top 20 rows\n",
      "\n"
     ]
    }
   ],
   "source": [
    "#loadand display dataset values using spark context\n",
    "dataset = spark.read.load(\"Dataset.csv\",format=\"csv\",inferSchema=True,header=True,delimiter='\\t')\n",
    "dataset = dataset.na.drop(how='any') #drop missing values\n",
    "dataset.show() #show the dataset"
   ]
  },
  {
   "cell_type": "code",
   "execution_count": 10,
   "metadata": {
    "scrolled": true
   },
   "outputs": [
    {
     "data": {
      "text/plain": [
       "DataFrame[summary: string, text: string, label: string]"
      ]
     },
     "execution_count": 10,
     "metadata": {},
     "output_type": "execute_result"
    }
   ],
   "source": [
    "dataset.describe()"
   ]
  },
  {
   "cell_type": "code",
   "execution_count": 11,
   "metadata": {},
   "outputs": [
    {
     "data": {
      "image/png": "[encoded data removed]",
      "text/plain": [
       "<Figure size 432x288 with 1 Axes>"
      ]
     },
     "metadata": {
      "needs_background": "light"
     },
     "output_type": "display_data"
    }
   ],
   "source": [
    "import seaborn as sns\n",
    "# Select a categorical column for the bar plot\n",
    "categorical_column = 'label'\n",
    "\n",
    "# Compute frequency counts using Spark\n",
    "count_df = dataset.groupBy(categorical_column).count().orderBy(categorical_column)\n",
    "\n",
    "# Convert Spark DataFrame to Pandas DataFrame for plotting\n",
    "pandas_df= count_df.toPandas()\n",
    "\n",
    "\n",
    "# Create a bar plot using Seaborn\n",
    "sns.barplot(data=pandas_df, x=categorical_column, y='count')\n",
    "plt.title('Bar Plot of Label')\n",
    "plt.xlabel('Label')\n",
    "plt.ylabel('Count')\n",
    "plt.show()"
   ]
  },
  {
   "cell_type": "code",
   "execution_count": 12,
   "metadata": {},
   "outputs": [],
   "source": [
    "import nltk"
   ]
  },
  {
   "cell_type": "code",
   "execution_count": 13,
   "metadata": {},
   "outputs": [],
   "source": [
    "#wordcloud"
   ]
  },
  {
   "cell_type": "code",
   "execution_count": 14,
   "metadata": {},
   "outputs": [
    {
     "name": "stdout",
     "output_type": "stream",
     "text": [
      "+--------------------+-----+--------------------+--------------------+--------------------+------+\n",
      "|                text|label|               words|            filtered|            features|target|\n",
      "+--------------------+-----+--------------------+--------------------+--------------------+------+\n",
      "|\"Great CD: My lov...|    1|[great, cd, my, l...|[great, cd, lovel...|(1000,[0,1,2,3,4,...|   1.0|\n",
      "|One of the best g...|    1|[one, of, the, be...|[one, best, game,...|(1000,[1,2,4,5,10...|   1.0|\n",
      "|Batteries died wi...|    0|[batteries, died,...|[batteries, died,...|(1000,[5,7,11,20,...|   0.0|\n",
      "|works fine, but M...|    1|[works, fine, but...|[works, fine, mah...|(1000,[20,78,180,...|   1.0|\n",
      "|Great for the non...|    1|[great, for, the,...|[great, non, audi...|(1000,[2,11,17,32...|   1.0|\n",
      "+--------------------+-----+--------------------+--------------------+--------------------+------+\n",
      "only showing top 5 rows\n",
      "\n"
     ]
    }
   ],
   "source": [
    "#importing text preprocessing classes from pyspark packages whcih can be sued to remove stop words, special symbols\n",
    "#and then convert text data into numeric vector\n",
    "from pyspark.ml.feature import RegexTokenizer, StopWordsRemover, CountVectorizer\n",
    "from nltk.corpus import stopwords\n",
    "from pyspark.ml import Pipeline\n",
    "from pyspark.ml.feature import OneHotEncoder, StringIndexer, VectorAssembler\n",
    "\n",
    "# tokenized text sentences into words\n",
    "regex_Tokenizer = RegexTokenizer(inputCol=\"text\",outputCol=\"words\",pattern=\"\\\\W\")\n",
    "#get list of stop words\n",
    "stop_words = stopwords.words('english')\n",
    "#create stop words remover object using stop words list\n",
    "stopwords_Remover = StopWordsRemover(inputCol=\"words\",outputCol=\"filtered\").setStopWords(stop_words)\n",
    "#create count vector object to convert text into bag of words\n",
    "count_Vectors = CountVectorizer(inputCol=\"filtered\",outputCol=\"features\", vocabSize=1000, minDF=5)\n",
    "#label to convert target data into spark compatible format\n",
    "label_string_Index = StringIndexer(inputCol=\"label\",outputCol=\"target\")\n",
    "pipe_line = Pipeline(stages=[regex_Tokenizer, stopwords_Remover, count_Vectors, label_string_Index])\n",
    "# now train the pipeline on training text.\n",
    "pipeline_Fit = pipe_line.fit(dataset)\n",
    "features = pipeline_Fit.transform(dataset)\n",
    "features.show(5)"
   ]
  },
  {
   "cell_type": "code",
   "execution_count": 15,
   "metadata": {},
   "outputs": [
    {
     "name": "stdout",
     "output_type": "stream",
     "text": [
      "70% dataset used for training : 279951\n",
      "30% dataset used for testing  : 120049\n"
     ]
    }
   ],
   "source": [
    "# split dataset into train & test\n",
    "(X_train, X_test) = features.randomSplit([0.7, 0.3], seed = 100)\n",
    "print(\"70% dataset used for training : \" + str(X_train.count()))\n",
    "print(\"30% dataset used for testing  : \" + str(X_test.count()))"
   ]
  },
  {
   "cell_type": "code",
   "execution_count": 16,
   "metadata": {},
   "outputs": [
    {
     "name": "stdout",
     "output_type": "stream",
     "text": [
      "---------------------------------------------------------------------------\n",
      "Random Forest Prediction Accuracy = 0.7612558205399462\n",
      "---------------------------------------------------------------------------\n",
      "\n",
      "---------------------------------------------------------------------------\n",
      "Classification Report (Random Forest)\n",
      "---------------------------------------------------------------------------\n",
      "Random Forest Precision : 0.7637412354107074\n",
      "Random Forest Perceptron Recall : 0.761137707364737\n",
      "Random Forest Perceptron FScore : 0.7606357735957969\n"
     ]
    }
   ],
   "source": [
    "#create random forest object and then train the model\n",
    "rf_model = RandomForestClassifier(labelCol='target', seed=42)\n",
    "rf_model.setFeaturesCol(\"features\")\n",
    "nb_Model = rf_model.fit(X_train) #train the model\n",
    "nb_Predict = nb_Model.transform(X_test) #perform prediction on test data\n",
    "correct_Label = nb_Predict.select(['target']).collect() #collect predicted labels\n",
    "predicted_Label = nb_Predict.select(['prediction']).collect() #collect true labels\n",
    "#now evaluate random forest performance and calculate accuracy\n",
    "evaluate = MulticlassClassificationEvaluator(labelCol='target',metricName=\"accuracy\")\n",
    "print(\"---------------------------------------------------------------------------\")\n",
    "print(\"Random Forest Prediction Accuracy = \"+str(evaluate.evaluate(nb_Predict)))\n",
    "print(\"---------------------------------------------------------------------------\\n\")\n",
    "print(\"---------------------------------------------------------------------------\")\n",
    "print('Classification Report (Random Forest)')\n",
    "print(\"---------------------------------------------------------------------------\")\n",
    "#calculate preicision and other metrics\n",
    "precisions=precision_score(correct_Label,predicted_Label,average='macro')\n",
    "recalls=recall_score(correct_Label,predicted_Label,average='macro')\n",
    "fmeasures=f1_score(correct_Label,predicted_Label,average='macro') \n",
    "print(\"Random Forest Precision : \"+str(precisions))\n",
    "print(\"Random Forest Perceptron Recall : \"+str(recalls))\n",
    "print(\"Random Forest Perceptron FScore : \"+str(fmeasures))"
   ]
  },
  {
   "cell_type": "code",
   "execution_count": 17,
   "metadata": {},
   "outputs": [
    {
     "name": "stdout",
     "output_type": "stream",
     "text": [
      "Classification Report of Testing\n",
      "              precision    recall  f1-score   support\n",
      "\n",
      "         0.0       0.74      0.81      0.77     60169\n",
      "         1.0       0.79      0.71      0.75     59880\n",
      "\n",
      "    accuracy                           0.76    120049\n",
      "   macro avg       0.76      0.76      0.76    120049\n",
      "weighted avg       0.76      0.76      0.76    120049\n",
      "\n"
     ]
    }
   ],
   "source": [
    "print('Classification Report of Testing')\n",
    "print(classification_report(correct_Label, predicted_Label))"
   ]
  },
  {
   "cell_type": "code",
   "execution_count": 18,
   "metadata": {},
   "outputs": [
    {
     "data": {
      "image/png": "[encoded data removed]",
      "text/plain": [
       "<Figure size 864x432 with 3 Axes>"
      ]
     },
     "metadata": {
      "needs_background": "light"
     },
     "output_type": "display_data"
    }
   ],
   "source": [
    "#plot random forest confusion matrix and roc graph\n",
    "import seaborn as sns\n",
    "from sklearn.metrics import roc_curve\n",
    "from sklearn.metrics import roc_auc_score\n",
    "from sklearn import metrics\n",
    "from sklearn.metrics import confusion_matrix\n",
    "\n",
    "labels = ['Positive', 'Negative']\n",
    "conf_matrix = confusion_matrix(correct_Label,predicted_Label)\n",
    "fig, axs = plt.subplots(1,2,figsize=(12, 6))\n",
    "ax = sns.heatmap(conf_matrix, xticklabels = labels, yticklabels = labels, annot = True, cmap=\"viridis\" ,fmt =\"g\", ax=axs[0]);\n",
    "ax.set_ylim([0,len(labels)])\n",
    "axs[0].set_title(\"Random Forest Confusion matrix\") \n",
    "random_probs = [0 for i in range(len(correct_Label))]\n",
    "p_fpr, p_tpr, _ = roc_curve(correct_Label, random_probs, pos_label=1)\n",
    "plt.plot(p_fpr, p_tpr, linestyle='--', color='orange',label=\"True classes\")\n",
    "ns_fpr, ns_tpr, _ = roc_curve(correct_Label, predicted_Label, pos_label=1)\n",
    "axs[1].plot(ns_fpr, ns_tpr, linestyle='--', label='Predicted Classes')\n",
    "axs[1].set_title(\"Random Forest ROC AUC Curve\")\n",
    "axs[1].set_xlabel('False Positive Rate')\n",
    "axs[1].set_ylabel('True Positive rate')\n",
    "plt.show()"
   ]
  },
  {
   "cell_type": "code",
   "execution_count": 19,
   "metadata": {},
   "outputs": [
    {
     "name": "stdout",
     "output_type": "stream",
     "text": [
      "+--------------------+\n",
      "|                text|\n",
      "+--------------------+\n",
      "|one of the last i...|\n",
      "|Sony Hi8 Camcorde...|\n",
      "|DVD Player crappe...|\n",
      "|Incorrect Disc: I...|\n",
      "|Don't buy!: First...|\n",
      "|Long and boring: ...|\n",
      "|Dont like it: Thi...|\n",
      "|Don't Take the Ch...|\n",
      "|Waste of money!: ...|\n",
      "|works great: i bo...|\n",
      "|Has No Range: I s...|\n",
      "|\"\"\"True\"\" Nirvana...|\n",
      "|garbage: Complete...|\n",
      "|Not what I expect...|\n",
      "+--------------------+\n",
      "\n"
     ]
    }
   ],
   "source": [
    "#now perfrom prediction on test reviews using random forest object\n",
    "#load test data\n",
    "test_data = spark.read.load(\"testData.csv\",format=\"csv\",inferSchema=True,header=True,delimiter='\\t')\n",
    "test_data = test_data.na.drop(how='any')#drop missing values\n",
    "test_data.show()"
   ]
  },
  {
   "cell_type": "code",
   "execution_count": 20,
   "metadata": {},
   "outputs": [
    {
     "name": "stdout",
     "output_type": "stream",
     "text": [
      "+--------------------+--------------------+--------------------+--------------------+\n",
      "|                text|               words|            filtered|            features|\n",
      "+--------------------+--------------------+--------------------+--------------------+\n",
      "|one of the last i...|[one, of, the, la...|[one, last, serie...|(1000,[1,3,42,99,...|\n",
      "|Sony Hi8 Camcorde...|[sony, hi8, camco...|[sony, hi8, camco...|(1000,[35,72,77,1...|\n",
      "|DVD Player crappe...|[dvd, player, cra...|[dvd, player, cra...|(1000,[1,6,11,14,...|\n",
      "|Incorrect Disc: I...|[incorrect, disc,...|[incorrect, disc,...|(1000,[1,4,5,10,1...|\n",
      "|Don't buy!: First...|[don, t, buy, fir...|[buy, first, comp...|(1000,[1,12,14,16...|\n",
      "|Long and boring: ...|[long, and, borin...|[long, boring, re...|(1000,[0,6,13,75,...|\n",
      "+--------------------+--------------------+--------------------+--------------------+\n",
      "only showing top 6 rows\n",
      "\n"
     ]
    }
   ],
   "source": [
    "# convert test data into numeric features or vector\n",
    "features = pipeline_Fit.transform(test_data)\n",
    "features.show(6)"
   ]
  },
  {
   "cell_type": "code",
   "execution_count": 21,
   "metadata": {},
   "outputs": [
    {
     "name": "stdout",
     "output_type": "stream",
     "text": [
      "one of the last in the series to collect !: The magazine was in very good condition and had the usual high standard of articles and photos that Victoria magazine has come to represent. I have collected all the previous magazines of the series and still enjoy leafing through them on a rainy day Predicted ====> POSITIVE\n",
      "\n",
      "Sony Hi8 Camcorder with 2.5 LCD: I believe I will be very happy with the camcorder. Its small,light and easy to handle.The LCD is clear and bright.Ease of operation. Predicted ====> POSITIVE\n",
      "\n",
      "DVD Player crapped out after one year: I also began having the incorrect disc problems that I've read about on here. The VCR still works, but hte DVD side is useless. I understand that DVD players sometimes just quit on you, but after not even one year? To me that's a sign on bad quality. I'm giving up JVC after this as well. I'm sticking to Sony or giving another brand a shot. Predicted ====> NEGATIVE\n",
      "\n",
      "Incorrect Disc: I love the style of this, but after a couple years, the DVD is giving me problems. It doesn't even work anymore and I use my broken PS2 Now. I wouldn't recommend this, I'm just going to upgrade to a recorder now. I wish it would work but I guess i'm giving up on JVC. I really did like this one... before it stopped working. The dvd player gave me problems probably after a year of having it. Predicted ====> NEGATIVE\n",
      "\n",
      "Don't buy!: First of all, the company took my money and sent me an email telling me the product was shipped. A week and a half later I received another email telling me that they are sorry, but they don't actually have any of these items, and if I received an email telling me it has shipped, it was a mistake.When I finally got my money back, I went through another company to buy the product and it won't work with my phone, even though it depicts that it will. I have sent numerous emails to the company - I can't actually find a phone number on their website - and I still have not gotten any kind of response. What kind of customer service is that? No one will help me with this problem. My advice - don't waste your money! Predicted ====> NEGATIVE\n",
      "\n",
      "Long and boring: I've read this book with much expectation, it was very boring all through out the book Predicted ====> NEGATIVE\n",
      "\n",
      "Dont like it: This product smells when you open the package and it appears one of the gel cushions leaks so I spent $10 and havent worn then. I wouldnt buy this product again. Dont waste your money on something you may not be able to use. Predicted ====> NEGATIVE\n",
      "\n",
      "Don't Take the Chance - Get the SE Branded Cable: If you purchase this data cable, you need to know that you will receive no real directions or information regarding what to check if nothing works. As directed, I downloaded all of the files from the SE site (70MB on dial up!), and then downloaded all of the user guides. Everything seemed to install ok, but nothing would make my phone be recognized. After that I scoured the SE site for troubleshooting info on their branded cable-in the hope that something would help me figure out the problem. After 2 full days of beating my head against the wall, I finally threw the cable and the useless CD that came with it in the trash.If I had used my brain I would have paid the extra $$ for a SE branded cable and software (and the support that comes along with that). I now have the real deal (SE data cable and software), and guess what? Yep, installation was a breeze and it works beautifully. You really do get what you pay for. Predicted ====> NEGATIVE\n",
      "\n",
      "Waste of money!: Like many of the Barbie CD Roms, the playtime is limited - averaging about 5 mins for each of my two daughters (ages 5 & 7). Like the Barbie movies and other CD Roms the graphics are poorly done. Predicted ====> NEGATIVE\n",
      "\n",
      "works great: i bought this item to connect to a strobe light. unit functions well. not sure that it has all the range claimed, but i never really believe everything a manufacturer claims about a product like this. just too many variables. I can say it works from my neighbors house into my garage; at least 40' going thru two buildings. now if i make too much noise later at night he can simply press a button to let me know. Predicted ====> POSITIVE\n",
      "\n",
      "Has No Range: I suppose if you were going to sit in the same room and have line-of-sight with the device, lamp, etc. plugged into this control, it might work. Maybe. But I had it completely within the stated range and one basic house wall separating me and the unit, and it was completely unreliable.I'd recommend spending a touch more money and getting a higher quality product. Predicted ====> NEGATIVE\n",
      "\n",
      "\"\"\"True\"\" Nirvana sucks: I'll tell you what's REALLY in the spirit of the band: that FBI seal and warning on the back cover that states that any and all duplications of the cd are \"\"illegal\"\". Not that anybody would enjoy a duplication anyway. If this is \"\"true\"\" Nirvana, then \"\"true\"\" Nirvana sucks.\" Predicted ====> POSITIVE\n",
      "\n",
      "garbage: Complete garbage, the sound quality is horrible, if your going to release a best of cd, record it with something other than a preschool microphone covered with a wet rag. Predicted ====> POSITIVE\n",
      "\n",
      "Not what I expected: I should have read what the cd was about. I thought it was just music by Chopin but it was really a lot of soprano singing. Predicted ====> POSITIVE\n",
      "\n"
     ]
    }
   ],
   "source": [
    "#perform prediction using random forest object and then get predicted label as positive or negative\n",
    "nb_Predict = nb_Model.transform(features)\n",
    "predicted_Label = nb_Predict.select(['prediction']).collect()\n",
    "test_data = test_data.toPandas()\n",
    "test_data = test_data.values\n",
    "for i in range(len(predicted_Label)):\n",
    "    if predicted_Label[i].prediction == 1:\n",
    "        print(str(test_data[i,0])+\" Predicted ====> POSITIVE\")\n",
    "    else:\n",
    "        print(str(test_data[i,0])+\" Predicted ====> NEGATIVE\")\n",
    "    print()    "
   ]
  },
  {
   "cell_type": "code",
   "execution_count": null,
   "metadata": {},
   "outputs": [],
   "source": []
  },
  {
   "cell_type": "code",
   "execution_count": null,
   "metadata": {},
   "outputs": [],
   "source": []
  }
 ],
 "metadata": {
  "kernelspec": {
   "display_name": "Python 3 (ipykernel)",
   "language": "python",
   "name": "python3"
  },
  "language_info": {
   "codemirror_mode": {
    "name": "ipython",
    "version": 3
   },
   "file_extension": ".py",
   "mimetype": "text/x-python",
   "name": "python",
   "nbconvert_exporter": "python",
   "pygments_lexer": "ipython3",
   "version": "3.9.12"
  }
 },
 "nbformat": 4,
 "nbformat_minor": 4
}
